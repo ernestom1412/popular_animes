{
 "cells": [
  {
   "cell_type": "code",
   "execution_count": 1,
   "id": "79b02afd",
   "metadata": {
    "scrolled": false
   },
   "outputs": [],
   "source": [
    "import time\n",
    "import requests\n",
    "import numpy as np\n",
    "import pandas as pd\n",
    "from bs4 import BeautifulSoup\n",
    "from IPython.display import Image\n",
    "import math"
   ]
  },
  {
   "cell_type": "code",
   "execution_count": 2,
   "id": "3a2cb507",
   "metadata": {},
   "outputs": [],
   "source": [
    "def get_the_info(link):\n",
    "    \"\"\"\n",
    "    Recives the requests.get(url) and returns the ranks, titles, scores, formats, date and images(?)\n",
    "    of every anime in the page. Images are a work in progress, maybe in the future\n",
    "    \"\"\"\n",
    "    webcode=BeautifulSoup(link.content,'lxml')\n",
    "    rankscode=webcode.select('td[class=\"rank ac\"]>span')\n",
    "    ranks=[i.text for i in rankscode]\n",
    "    imagescode=webcode.select('td[class=\"title al va-t word-break\"]>a>img')\n",
    "    images=[Image(url=i['data-src']) for i in imagescode]\n",
    "    #df['Images']=[display(i) for i in images]\n",
    "    titlescode=webcode.select('div[class=\"di-ib clearfix\"]>h3>a')\n",
    "    titles=[i.text for i in titlescode]\n",
    "    scorescode=webcode.select('td[class=\"score ac fs14\"]>div>span')\n",
    "    scores=[i.text for i in scorescode]\n",
    "    detailscode=webcode.select('div[class=\"detail\"]>div[class=\"information di-ib mt4\"]')\n",
    "    formats=[i.text.split('        ')[1].strip() for i in detailscode]\n",
    "    date=[i.text.split('        ')[2].strip() for i in detailscode]\n",
    "    return ranks,titles,scores,formats,date,images"
   ]
  },
  {
   "cell_type": "code",
   "execution_count": 3,
   "id": "656f99fb",
   "metadata": {},
   "outputs": [],
   "source": [
    "def get_more_info(link):\n",
    "    \"\"\"\n",
    "    Recives the requests.get(url),takes all the links in the page and returns the links,\n",
    "    studio, genres, source, rating, recommendation of every anime in the page\n",
    "    \"\"\"\n",
    "    webcode=BeautifulSoup(link.content,'lxml')\n",
    "    linkscode=webcode.select('h3[class=\"hoverinfo_trigger fl-l fs14 fw-b anime_ranking_h3\"]>a')\n",
    "    links=[i['href'] for i in linkscode]\n",
    "    producers=[]\n",
    "    studio=[]\n",
    "    genres=[]\n",
    "    indvgenres=[]\n",
    "    source=[]\n",
    "    rating=[]\n",
    "    recommendation=[]\n",
    "    viewers=[]\n",
    "    details=[]\n",
    "    for i in links:\n",
    "        time.sleep(2)\n",
    "        sublink=requests.get(i)\n",
    "        subwebcode=BeautifulSoup(sublink.content,'lxml')\n",
    "        studiocode=subwebcode.select('div[class=\"spaceit_pad\"]>a')\n",
    "        for i in studiocode:\n",
    "            if i['href'][:15]==('/anime/producer'):\n",
    "                producers.append(i.text)\n",
    "        studio.append(producers[-1])\n",
    "        genrescode=subwebcode.select('div[class=\"spaceit_pad\"]>a')\n",
    "        for i in genrescode:\n",
    "            if i['href'][:12]==('/anime/genre'):\n",
    "                indvgenres.append(i.text)\n",
    "        genres.append(indvgenres)\n",
    "        indvgenres=[]\n",
    "        sourcecode=subwebcode.select('div[class=\"spaceit_pad\"]')\n",
    "        for i in sourcecode:\n",
    "            if i.text[:7]=='\\nSource':\n",
    "                source.append(i.text.split('\\n')[2].strip())\n",
    "        for i in sourcecode:\n",
    "            if i.text[:7]=='\\nRating':\n",
    "                rating.append(i.text.split('\\n')[2].strip())\n",
    "        recommendationcode=subwebcode.select('a[class=\"link bg-center\"]>span')\n",
    "        recs=[i.text for i in recommendationcode]\n",
    "        recommendation.append(recs[0])\n",
    "        memberscode=subwebcode.select('span[class=\"numbers members\"]>strong')\n",
    "        members=[i.text for i in memberscode]\n",
    "        viewers.append(members[0])\n",
    "        continuationcode=subwebcode.select('td[class=\"ar fw-n borderClass\"]')\n",
    "        continuation=[i.text for i in continuationcode]\n",
    "        details.append(continuation)\n",
    "    return links,studio,genres,source,rating,recommendation,viewers,details"
   ]
  },
  {
   "cell_type": "code",
   "execution_count": 5,
   "id": "5a71939f",
   "metadata": {},
   "outputs": [],
   "source": [
    "def put_it_in(info,more_info):\n",
    "    \"\"\"\n",
    "    Recives the info regarding the get_the_info and get_more_info functions and joins them \n",
    "    in a pandas DataFrame\n",
    "    \"\"\"\n",
    "    df=pd.DataFrame()\n",
    "    df['Rank']=info[0]\n",
    "    df['Title']=info[1]\n",
    "    df['Score']=info[2]\n",
    "    df['Format']=info[3]\n",
    "    df['Date']=info[4]\n",
    "    df['Viewers']=more_info[6]\n",
    "    df['Studio']=more_info[1]\n",
    "    df['Genres']=more_info[2]\n",
    "    df['Source']=more_info[3]\n",
    "    df['Rating']=more_info[4]\n",
    "    df['Recommendation']=more_info[5]\n",
    "    df['Links']=more_info[0]\n",
    "    df['Details']=more_info[7]\n",
    "    return df"
   ]
  },
  {
   "cell_type": "code",
   "execution_count": 6,
   "id": "3521cfe1",
   "metadata": {},
   "outputs": [],
   "source": [
    "def popular_animes(number):\n",
    "    \"\"\"\n",
    "    Recives the number of animes you want to see and returns a pandas DataFrame and a .csv file with\n",
    "    all the anime you requested\n",
    "    \"\"\"\n",
    "    pages = 50 * math.floor((number-1)/50)\n",
    "    url='https://myanimelist.net/topanime.php?type=bypopularity'\n",
    "    link=requests.get(url)\n",
    "    url2='&limit='\n",
    "    animes=put_it_in(get_the_info(link),get_more_info(link))\n",
    "    global anilinks\n",
    "    if pages==0:\n",
    "        anilinks=animes.pop('Links')\n",
    "        anilinks=anilinks.reset_index(drop=True)\n",
    "        animes=animes[:number]\n",
    "        animes=animes.reset_index(drop=True)\n",
    "        animes.to_csv('popular_anime.csv',index=False,sep=',')\n",
    "        return animes\n",
    "    else:\n",
    "        for i in range(50,number,50):\n",
    "            combinedurl=url+url2+str(i)\n",
    "            combinedlink=requests.get(combinedurl)\n",
    "            more_animes=put_it_in(get_the_info(combinedlink),get_more_info(combinedlink))\n",
    "            animes=pd.concat([animes,more_animes])\n",
    "        anilinks=animes.pop('Links')\n",
    "        anilinks=anilinks.reset_index(drop=True)\n",
    "        animes=animes[:number]\n",
    "        animes=animes.reset_index(drop=True)\n",
    "        animes.to_csv('popular_anime.csv',index=False,sep=',')\n",
    "        return animes"
   ]
  },
  {
   "cell_type": "code",
   "execution_count": 46,
   "id": "30810912",
   "metadata": {},
   "outputs": [],
   "source": [
    "test=popular_animes(1000)"
   ]
  },
  {
   "cell_type": "code",
   "execution_count": 47,
   "id": "9b4006f5",
   "metadata": {},
   "outputs": [],
   "source": [
    "test2=test"
   ]
  },
  {
   "cell_type": "code",
   "execution_count": 48,
   "id": "8414da3d",
   "metadata": {},
   "outputs": [],
   "source": [
    "test2['Prequel']=[1 if 'Prequel:' in i else 0 for i in test['Details']]\n",
    "test2['Sequel']=[1 if 'Sequel:' in i else 0 for i in test['Details']]\n",
    "idvgenres=[j for i in test['Genres'] for j in i]\n",
    "idvgenres=list(set(idvgenres))\n",
    "for i in idvgenres:\n",
    "    test2[i]=[1 if i in j else 0 for j in test2['Genres']]\n",
    "test2['Media']=[i.split(\" \")[0] for i in test2['Format']]\n",
    "test2['Episodes']=[i.split(\" \")[1].split(\"(\")[1] for i in test2['Format']]\n",
    "test2.to_csv('popular_anime_v2.csv',index=False,sep=',')"
   ]
  }
 ],
 "metadata": {
  "kernelspec": {
   "display_name": "Python 3",
   "language": "python",
   "name": "python3"
  },
  "language_info": {
   "codemirror_mode": {
    "name": "ipython",
    "version": 3
   },
   "file_extension": ".py",
   "mimetype": "text/x-python",
   "name": "python",
   "nbconvert_exporter": "python",
   "pygments_lexer": "ipython3",
   "version": "3.8.8"
  }
 },
 "nbformat": 4,
 "nbformat_minor": 5
}
